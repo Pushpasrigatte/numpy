{
 "cells": [
  {
   "cell_type": "code",
   "execution_count": 3,
   "id": "0440e2ba",
   "metadata": {},
   "outputs": [
    {
     "name": "stdout",
     "output_type": "stream",
     "text": [
      "ignore NaN: 2.75\n",
      "sum: nan\n",
      "std ignoring NaN: 1.479019945774904\n"
     ]
    }
   ],
   "source": [
    "import numpy as np\n",
    "arr=np.array([1,2,3,np.nan,5])\n",
    "print(\"ignore NaN:\",np.nanmean(arr))\n",
    "print(\"sum:\",np.sum(arr))\n",
    "print(\"std ignoring NaN:\",np.std(arr[~np.isnan(arr)]))"
   ]
  },
  {
   "cell_type": "code",
   "execution_count": 4,
   "id": "08417210",
   "metadata": {},
   "outputs": [
    {
     "name": "stdout",
     "output_type": "stream",
     "text": [
      "replace NaN with 0: [1. 0. 3. 4. 5.]\n"
     ]
    }
   ],
   "source": [
    "#replace NaN\n",
    "import numpy as np\n",
    "arr=np.array([1,np.nan,3,4,5])\n",
    "print(\"replace NaN with 0:\",np.where(np.isnan(arr),0,arr))"
   ]
  },
  {
   "cell_type": "code",
   "execution_count": 1,
   "id": "17f642e2",
   "metadata": {},
   "outputs": [
    {
     "name": "stdout",
     "output_type": "stream",
     "text": [
      "[1 2 9]\n",
      "[1. 2. 4. 4.]\n",
      "['32' '534' '452' '11' '988']\n",
      "[ True False  True False False]\n",
      "[1 0 1 0 0]\n",
      "[1.5+0.j 2.9+0.j 6.8+0.j 4.8+0.j]\n",
      "[1 2 6 4]\n",
      "[10 20 30]\n"
     ]
    }
   ],
   "source": [
    "#universal functions ufuncs()\n",
    "import numpy as np\n",
    "arr=np.array([1.5,2.9,9.8])\n",
    "print(arr.astype(np.int32))\n",
    "arr=np.array([1,2,4,4])\n",
    "print(arr.astype(np.float64))\n",
    "arr=np.array([32,534,452,11,988])\n",
    "print(arr.astype(str))\n",
    "arr=np.array([11,00,1,0,0])\n",
    "print(arr.astype(bool))\n",
    "arr=np.array([ True,False,True,False,False])\n",
    "print(arr.astype(np.int32))\n",
    "arr=np.array([1.5,2.9,6.8,4.8])\n",
    "print(arr.astype(np.complex128))\n",
    "print(arr.astype(np.int8)) #allocating less space or converting to less space\n",
    "arr = np.array([\"10\", \"20\", \"30\"])\n",
    "print(arr.astype(np.int32))\n"
   ]
  }
 ],
 "metadata": {
  "kernelspec": {
   "display_name": "Python 3",
   "language": "python",
   "name": "python3"
  },
  "language_info": {
   "codemirror_mode": {
    "name": "ipython",
    "version": 3
   },
   "file_extension": ".py",
   "mimetype": "text/x-python",
   "name": "python",
   "nbconvert_exporter": "python",
   "pygments_lexer": "ipython3",
   "version": "3.12.10"
  }
 },
 "nbformat": 4,
 "nbformat_minor": 5
}
