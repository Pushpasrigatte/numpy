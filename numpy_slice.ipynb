{
 "cells": [
  {
   "cell_type": "code",
   "execution_count": null,
   "id": "0593a1f9",
   "metadata": {},
   "outputs": [
    {
     "name": "stdout",
     "output_type": "stream",
     "text": [
      "Element at [0,1]: 2\n",
      "First row: [1 2 3]\n"
     ]
    }
   ],
   "source": [
    "import numpy as np\n",
    "arr=np.array([[1,2,3],[4,5,6]])\n",
    "print(\"Element at [0,1]:\",arr[0,1])\n",
    "print(\"First row:\",arr[0, :])"
   ]
  },
  {
   "cell_type": "code",
   "execution_count": 9,
   "id": "09063c54",
   "metadata": {},
   "outputs": [
    {
     "name": "stdout",
     "output_type": "stream",
     "text": [
      "First row: [[2 3]\n",
      " [5 6]]\n"
     ]
    }
   ],
   "source": [
    "import numpy as np\n",
    "arr=np.array([[1,2,3],[4,5,6]])\n",
    "print(\"First row:\",arr[:, 1:])"
   ]
  },
  {
   "cell_type": "code",
   "execution_count": 11,
   "id": "27dbbdd9",
   "metadata": {},
   "outputs": [
    {
     "name": "stdout",
     "output_type": "stream",
     "text": [
      "First row: [[2 3]\n",
      " [5 6]]\n",
      "modify: [[100   2   3]\n",
      " [  4   5   6]]\n"
     ]
    }
   ],
   "source": [
    "import numpy as np\n",
    "arr=np.array([[1,2,3],[4,5,6]])\n",
    "print(\"First row:\",arr[:, 1:])\n",
    "arr[0,0]=100\n",
    "print(\"modify:\",arr)"
   ]
  },
  {
   "cell_type": "code",
   "execution_count": 19,
   "id": "09f02039",
   "metadata": {},
   "outputs": [
    {
     "name": "stdout",
     "output_type": "stream",
     "text": [
      "First row: [[2 3]\n",
      " [5 6]]\n",
      "modify:\n",
      " [[ 1  2  3]\n",
      " [ 4 33  6]]\n"
     ]
    }
   ],
   "source": [
    "import numpy as np\n",
    "arr=np.array([[1,2,3],[4,5,6]])\n",
    "print(\"First row:\",arr[:, 1:])\n",
    "arr[1,1]=33\n",
    "print(\"modify:\\n\",arr)"
   ]
  },
  {
   "cell_type": "markdown",
   "id": "962b74ff",
   "metadata": {},
   "source": [
    "\n",
    "1️⃣Create a NumPy array of strings: [\"apple\", \"banana\", \"cherry\"]. Convert all strings to uppercase.\n",
    "\n",
    "2️⃣ Replace the letter \"a\" with \"@\" in each element of the array: [\"cat\", \"bat\", \"rat\"].\n",
    "\n",
    "3️⃣ Find the length of each string in the array: [\"hello\", \"world\", \"numpy\", \"strings\"].\n",
    "\n",
    "4️⃣ Check whether each element in [\"hello\", \"hey\", \"hi\", \"hola\"] starts with \"h\".\n",
    "\n",
    "5️⃣ Concatenate two arrays of strings: [\"good\", \"nice\"] and [\"morning\", \"day\"].\n",
    "\n",
    "6️⃣ Remove the first character from each string in the array: [\"apple\", \"banana\", \"cherry\"].\n",
    "\n",
    "7️⃣ Split each string in the array [\"a,b,c\", \"d,e,f\", \"g,h,i\"] by comma.\n",
    "\n",
    "8️⃣ Count how many times the letter \"a\" appears in each element of [\"banana\", \"apple\", \"avocado\"].\n",
    "\n",
    "9️⃣ Check if the substring \"on\" exists in each string of [\"python\", \"java\", \"c++\", \"go\"].\n",
    "\n",
    "🔟 Add the suffix \"_fruit\" to each element in [\"apple\", \"banana\", \"cherry\"].\n",
    "\n"
   ]
  },
  {
   "cell_type": "markdown",
   "id": "2147ae00",
   "metadata": {},
   "source": [
    "Common NumPy string methods (numpy.char):\n",
    "\n",
    "np.char.upper()\tnp.char.upper(['abc', 'def']) → ['ABC', 'DEF']\tConverts all characters to uppercase\n",
    "\n",
    "np.char.lower()\tnp.char.lower(['ABC', 'DEF']) → ['abc', 'def']\tConverts all characters to lowercase\n",
    "\n",
    "np.char.capitalize()\tnp.char.capitalize(['apple', 'banana']) → ['Apple', 'Banana']\tCapitalizes first letter\n",
    "\n",
    "np.char.title()\tnp.char.title(['hello world']) → ['Hello World']\tCapitalizes first letter of each word\n",
    "\n",
    "np.char.swapcase()\tnp.char.swapcase(['Hello']) → ['hELLO']\tSwaps case (upper ↔ lower)\n",
    "\n",
    "np.char.strip()\tnp.char.strip([' apple ']) → ['apple']\tRemoves whitespace from both ends\n",
    "\n",
    "np.char.lstrip()\tnp.char.lstrip([' apple']) → ['apple']\tRemoves leading whitespace\n",
    "\n",
    "np.char.rstrip()\tnp.char.rstrip(['apple ']) → ['apple']\tRemoves trailing whitespace\n",
    "\n",
    "np.char.replace()\tnp.char.replace(['cat'], 'a', '@') → ['c@t']\tReplaces substring\n",
    "\n",
    "np.char.add()\tnp.char.add(['a', 'b'], ['x', 'y']) → ['ax', 'by']\tElement-wise string concatenation\n",
    "\n",
    "np.char.multiply()\tnp.char.multiply(['a', 'b'], 3) → ['aaa', 'bbb']\tRepeats each \n",
    "\n",
    "np.char.center()\tnp.char.center(['hi'], 5, '*') → ['*hi*']\tCenters string with padding\n",
    "\n",
    "np.char.ljust()\tnp.char.ljust(['hi'], 4, '*') → ['hi**']\tLeft-justifies string with padding\n",
    "\n",
    "np.char.rjust()\tnp.char.rjust(['hi'], 4, '*') → ['**hi']\tRight-justifies string with padding\n",
    "\n",
    "np.char.zfill()\tnp.char.zfill(['5'], 3) → ['005']\tPads string on the left with zeros\n",
    "\n",
    "np.char.find()\tnp.char.find(['apple'], 'p') → [1]\tReturns lowest index of substring\n",
    "\n",
    "np.char.count()\tnp.char.count(['apple'], 'p') → [2]\tCounts occurrences of substring\n",
    "\n",
    "np.char.startswith()\tnp.char.startswith(['apple'], 'a') → [True]\tChecks if string starts with substring\n",
    "\n",
    "np.char.endswith()\tnp.char.endswith(['apple'], 'e') → [True]\tChecks if string ends with substring\n",
    "\n",
    "np.char.split()\tnp.char.split(['a,b,c'], ',') → [['a', 'b', 'c']]\tSplits string into list"
   ]
  },
  {
   "cell_type": "code",
   "execution_count": null,
   "id": "fe3d3feb",
   "metadata": {},
   "outputs": [
    {
     "name": "stdout",
     "output_type": "stream",
     "text": [
      "['APPLE' 'BANANA' 'CHERRY']\n"
     ]
    }
   ],
   "source": [
    "import numpy as np\n",
    "l=np.array([\"apple\",\"banana\",\"cherry\"])\n",
    "print(np.char.upper(l))"
   ]
  },
  {
   "cell_type": "code",
   "execution_count": 26,
   "id": "a8f9808b",
   "metadata": {},
   "outputs": [
    {
     "name": "stdout",
     "output_type": "stream",
     "text": [
      "['c@t' 'b@t' 'r@t']\n"
     ]
    }
   ],
   "source": [
    "import numpy as np\n",
    "b=np.char.replace([\"cat\", \"bat\", \"rat\"],\"a\",\"@\")\n",
    "print(b)"
   ]
  },
  {
   "cell_type": "code",
   "execution_count": 30,
   "id": "d5b2a9b1",
   "metadata": {},
   "outputs": [
    {
     "name": "stdout",
     "output_type": "stream",
     "text": [
      "[5 5 5 7]\n"
     ]
    }
   ],
   "source": [
    "import numpy as np\n",
    "z=np.array([\"hello\", \"world\", \"numpy\", \"strings\"])\n",
    "x=np.char.str_len(z)\n",
    "print(x)"
   ]
  }
 ],
 "metadata": {
  "kernelspec": {
   "display_name": "Python 3",
   "language": "python",
   "name": "python3"
  },
  "language_info": {
   "codemirror_mode": {
    "name": "ipython",
    "version": 3
   },
   "file_extension": ".py",
   "mimetype": "text/x-python",
   "name": "python",
   "nbconvert_exporter": "python",
   "pygments_lexer": "ipython3",
   "version": "3.12.10"
  }
 },
 "nbformat": 4,
 "nbformat_minor": 5
}
