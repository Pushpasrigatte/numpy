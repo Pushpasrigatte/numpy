{
 "cells": [
  {
   "cell_type": "code",
   "execution_count": null,
   "id": "34257579",
   "metadata": {},
   "outputs": [],
   "source": [
    "'''code to take two arrays a and b , integrate a and b vertically and horizantally '''\n",
    "import numpy as np\n",
    "a=list(map(int,input(\"enter 3 numbers for array a, space seperated :\").split()))\n",
    "b=list(map(int,input(\"enter 3 numbers for array a, space seperated :\").split()))\n",
    "a=np.array(a)\n",
    "b=np.array(b)\n",
    "v=np.vstack((a,b))\n",
    "print(\"vertical stack:\\n\",np.vstack((a,b)))\n",
    "print(\"vertical stack: \\n\",np.hstack((a,b)))\n",
    "print(\"element stack:\\n\",v[1,1])\n",
    "print(\"element stack:\",v[1][1])"
   ]
  },
  {
   "cell_type": "code",
   "execution_count": null,
   "id": "d48d8d32",
   "metadata": {},
   "outputs": [],
   "source": [
    "'''code to extract all the odd numbers from user input and print them in  a list using array of numpy \n",
    "input: 1 2 3 4 5 9 8 7 6\n",
    "output:[1,3,5,9,7]'''\n",
    "\n",
    "import numpy as np\n",
    "a=input(\"enter numbers seperated by spaces:\")\n",
    "arr=np.array(list(map(int,a.split())))\n",
    "odd=arr[arr%2==1]\n",
    "\n",
    "print(\"odd numbers list:\",odd)"
   ]
  },
  {
   "cell_type": "code",
   "execution_count": null,
   "id": "8fbaa501",
   "metadata": {},
   "outputs": [],
   "source": [
    "#replace the odd numbers with -1\n",
    "import numpy as np\n",
    "a=input(\"enter numbers seperated by spaces:\")\n",
    "arr=np.array(list(map(int,a.split())))\n",
    "arr[arr%2==1]=-1\n",
    "\n",
    "print(arr)"
   ]
  },
  {
   "cell_type": "code",
   "execution_count": null,
   "id": "b6efe760",
   "metadata": {},
   "outputs": [],
   "source": [
    "#replace the even numbers with even\n",
    "import numpy as np\n",
    "a=input(\"enter numbers seperated by spaces:\")\n",
    "arr=np.array(list(map(int,a.split())),dtype=object)\n",
    "arr[arr%2==1]='even'\n",
    "print(arr)"
   ]
  },
  {
   "cell_type": "code",
   "execution_count": null,
   "id": "b611a860",
   "metadata": {},
   "outputs": [],
   "source": [
    "#replace the odd numbers with True , even with false\n",
    "import numpy as np\n",
    "a=input(\"enter numbers seperated by spaces:\")\n",
    "arr=np.array(list(map(int,a.split())))\n",
    "mask=arr%3==0\n",
    "print(mask)"
   ]
  }
 ],
 "metadata": {
  "kernelspec": {
   "display_name": "Python 3",
   "language": "python",
   "name": "python3"
  },
  "language_info": {
   "codemirror_mode": {
    "name": "ipython",
    "version": 3
   },
   "file_extension": ".py",
   "mimetype": "text/x-python",
   "name": "python",
   "nbconvert_exporter": "python",
   "pygments_lexer": "ipython3",
   "version": "3.12.10"
  }
 },
 "nbformat": 4,
 "nbformat_minor": 5
}
